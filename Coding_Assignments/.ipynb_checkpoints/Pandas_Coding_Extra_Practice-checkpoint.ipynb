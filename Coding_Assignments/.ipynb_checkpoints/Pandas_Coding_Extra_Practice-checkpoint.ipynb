{
 "cells": [
  {
   "cell_type": "markdown",
   "metadata": {},
   "source": [
    "# Extra Practice"
   ]
  },
  {
   "cell_type": "code",
   "execution_count": null,
   "metadata": {},
   "outputs": [],
   "source": [
    "import pandas as pd\n",
    "import numpy as np"
   ]
  },
  {
   "cell_type": "markdown",
   "metadata": {},
   "source": [
    "### 1. Pandas Series\n",
    "\n",
    "A **Series** represents a sequential list of data and is a foundational building block for DataFrame(s). \n",
    "\n",
    "This creates a new Series object with data: \n",
    "\n",
    "```\n",
    "numbers = [1, 4, 1, 5, 9, 2, 6, 5, 3, 5]\n",
    "numbers_series = pd.Series(numbers)\n",
    "```"
   ]
  },
  {
   "cell_type": "code",
   "execution_count": null,
   "metadata": {},
   "outputs": [],
   "source": [
    "### TO DO ###\n",
    "# Use np.random.choice and pd.Series to generate a series of 10,000 integers between 1 and 100 inclusive.\n",
    "# Then, use .value_counts() to display the relative frequencies of top five integer occurrences\n",
    "\n",
    "### start code ###\n",
    "\n",
    "### end code ###"
   ]
  },
  {
   "cell_type": "code",
   "execution_count": null,
   "metadata": {},
   "outputs": [],
   "source": [
    "### TO DO ###\n",
    "# Documentation Research: Which series attribute tells us whether its values are all unique? \n",
    "\n",
    "### start code ###\n",
    "\n",
    "### end code ###"
   ]
  },
  {
   "cell_type": "code",
   "execution_count": null,
   "metadata": {},
   "outputs": [],
   "source": [
    "### TO DO ###\n",
    "# Documentation Research: Which series attribute tells us whether values are monotonically increasing or decreasing? \n",
    "\n",
    "### start code ###\n",
    "\n",
    "### end code ###"
   ]
  },
  {
   "cell_type": "markdown",
   "metadata": {},
   "source": [
    "### 2. Pandas DataFrame\n",
    "\n",
    "A DataFrame is a table of data consisting of one or more Series in tabular format. Each Series in a DataFrame is a column. \n",
    "\n",
    "This creates a DataFrame with data: \n",
    "\n",
    "```\n",
    "classes = pd.Series(['math', 'chemistry', 'history', 'english', 'physics', 'compsci', 'economics'])\n",
    "enrollment_counts = pd.Series([32, 33, 26, 18, 33, 60, 28])\n",
    "\n",
    "df = pd.DataFrame({\n",
    "    'Classes': classes, \n",
    "    'Enrollment_Count': enrollment_counts\n",
    "})\n",
    "```"
   ]
  },
  {
   "cell_type": "markdown",
   "metadata": {},
   "source": [
    "### 3. Indexing/Slicing\n",
    "\n",
    "The values on the right-side column of ```nums.head()``` below are **indices**. Individual items in a series can be accessed by their index values. "
   ]
  },
  {
   "cell_type": "code",
   "execution_count": null,
   "metadata": {},
   "outputs": [],
   "source": [
    "# Numbers 0-4 on the left are indices\n",
    "nums.head()"
   ]
  },
  {
   "cell_type": "code",
   "execution_count": null,
   "metadata": {},
   "outputs": [],
   "source": [
    "### TO DO ###\n",
    "# Series are mutable! Modify the third value of nums to be twice the current value. (Hint: 0-indexing)\n",
    "\n",
    "### start code ###\n",
    "\n",
    "### end code ###"
   ]
  },
  {
   "cell_type": "markdown",
   "metadata": {},
   "source": [
    "#### 3.1 loc vs iloc indexing\n",
    "\n",
    "**loc** is *label-based* -- we specify the names of the rows and/or columns we would like to filter out\n",
    "\n",
    "**iloc** is *integer index-based* -- we specify rows and/or columns by their integer index\n",
    "\n",
    "If we are searching for rows using *loc* with indices *3*, *6*, and *120*, then we are NOT getting the 4th, 7th, and 121th rows and INSTEAD all the rows with names *3*, *6* and *120*. If using *iloc*, then we ARE getting the 4th, 7th, and 121th rows regardless of the names/labels in the dataset. \n",
    "\n",
    "In both cases, you may select both rows and columns from a DataFrame. \n",
    "\n",
    "```\n",
    "my_df.loc[row_name, col_name]\n",
    "my_df.iloc[index1, index2]\n",
    "\n",
    "my_df.loc[[row_name1, row_name2], col_name]\n",
    "my_df.iloc[[index1, index3], index2]\n",
    "\n",
    "my_df.loc[[row_name1, row_name2], [col_name1, col_name2]]\n",
    "my_df.iloc[[index1, index3], [index2, index4]]\n",
    "\n",
    "my_df.loc[:, label]\n",
    "my_df.iloc[:, index]\n",
    "```"
   ]
  },
  {
   "cell_type": "code",
   "execution_count": null,
   "metadata": {},
   "outputs": [],
   "source": [
    "### TO DO ###\n",
    "# Debugging: The following code attempts to access the last value of nums. Why does it not work? \n",
    "# How will you access the last value without hard coding? (hint: iloc)\n",
    "\n",
    "### start code ###\n",
    "#nums[-1]\n",
    "### end code ### "
   ]
  },
  {
   "cell_type": "code",
   "execution_count": null,
   "metadata": {},
   "outputs": [],
   "source": [
    "# run code cell for the exercise below\n",
    "ratings = pd.read_csv(\"ratings.csv\")\n",
    "ratings.head()"
   ]
  },
  {
   "cell_type": "code",
   "execution_count": null,
   "metadata": {},
   "outputs": [],
   "source": [
    "### TO DO ###\n",
    "# Documentation Research: Sort ratings dataframe by rating (descending)\n",
    "# Then, display the 10th-20th rows of the date and rating columns\n",
    "\n",
    "### start code ###\n",
    "\n",
    "### end code ###"
   ]
  }
 ],
 "metadata": {
  "kernelspec": {
   "display_name": "Python 3",
   "language": "python",
   "name": "python3"
  },
  "language_info": {
   "codemirror_mode": {
    "name": "ipython",
    "version": 3
   },
   "file_extension": ".py",
   "mimetype": "text/x-python",
   "name": "python",
   "nbconvert_exporter": "python",
   "pygments_lexer": "ipython3",
   "version": "3.8.3"
  }
 },
 "nbformat": 4,
 "nbformat_minor": 4
}
